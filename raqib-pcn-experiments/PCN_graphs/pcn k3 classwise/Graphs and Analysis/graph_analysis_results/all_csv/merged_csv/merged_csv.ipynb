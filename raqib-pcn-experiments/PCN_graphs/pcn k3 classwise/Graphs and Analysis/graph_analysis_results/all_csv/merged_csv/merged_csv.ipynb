{
 "cells": [
  {
   "cell_type": "code",
   "execution_count": 4,
   "metadata": {},
   "outputs": [
    {
     "name": "stdout",
     "output_type": "stream",
     "text": [
      "File: Emitter-Higgs_HToWW2Q1L.csv -> Rows: 9998\n",
      "File: Emitter-Higgs_HToGG.csv -> Rows: 10000\n",
      "File: Emitter-Higgs_HToBB.csv -> Rows: 10000\n",
      "File: Emitter-Top_TTBarLep.csv -> Rows: 9999\n",
      "File: Emitter-Top_TTBar.csv -> Rows: 10000\n",
      "File: Emitter-Vector_WToQQ.csv -> Rows: 10000\n",
      "File: Emitter-Vector_ZToQQ.csv -> Rows: 10000\n",
      "File: Emitter-Higgs_HToWW4Q.csv -> Rows: 10000\n",
      "File: Emitter-Higgs_HToCC.csv -> Rows: 10000\n",
      "File: Emitter-QCD_ZJetsToNuNu.csv -> Rows: 10000\n",
      "All CSV files have been merged into ./all_jet_types.csv\n"
     ]
    }
   ],
   "source": [
    "import os\n",
    "import pandas as pd\n",
    "\n",
    "# Define the folder containing the CSV files\n",
    "input = \"../\"  # Change this to your folder path\n",
    "\n",
    "# Get a list of all CSV files in the folder\n",
    "csv_files = [file for file in os.listdir(folder_path) if file.endswith('.csv')]\n",
    "\n",
    "# Create an empty list to store DataFrames\n",
    "df_list = []\n",
    "\n",
    "# Loop through the CSV files and read them into DataFrames\n",
    "for file in csv_files:\n",
    "    file_path = os.path.join(input, file)\n",
    "    df = pd.read_csv(file_path)  # Read CSV file\n",
    "    file_length = len(df)\n",
    "    print(f\"File: {file} -> Rows: {file_length}\")  # Print length of each file\n",
    "    df_list.append(df)\n",
    "\n",
    "# Merge all DataFrames into a single DataFrame\n",
    "merged_df = pd.concat(df_list, ignore_index=True)\n",
    "\n",
    "# Save the merged DataFrame to a new CSV file\n",
    "output_file = os.path.join('./', \"all_jet_types.csv\")\n",
    "merged_df.to_csv(output_file, index=False)\n",
    "\n",
    "print(f\"All CSV files have been merged into {output_file}\")\n"
   ]
  },
  {
   "cell_type": "code",
   "execution_count": 2,
   "metadata": {},
   "outputs": [
    {
     "name": "stdout",
     "output_type": "stream",
     "text": [
      "Label Encoding Mapping:\n",
      "HToBB -> 0\n",
      "HToCC -> 1\n",
      "HToGG -> 2\n",
      "HToWW2Q1L -> 3\n",
      "HToWW4Q -> 4\n",
      "Top_TTBar -> 5\n",
      "Top_TTBarLep -> 6\n",
      "Vector_WToQQ -> 7\n",
      "Vector_ZToQQ -> 8\n",
      "ZJetsToNuNu -> 9\n",
      "\n",
      "File successfully saved as modified_file.csv\n"
     ]
    }
   ],
   "source": [
    "import pandas as pd\n",
    "from sklearn.preprocessing import LabelEncoder\n",
    "\n",
    "# Load the CSV file\n",
    "file_path = \"all_jet_types.csv\"  # Change this to your actual file path\n",
    "df = pd.read_csv(file_path)\n",
    "\n",
    "# Specify the column name of the target class (modify as needed)\n",
    "target_column = \"JetType\"  # Replace with the actual column name\n",
    "\n",
    "# Check if the column exists\n",
    "if target_column in df.columns:\n",
    "    # Convert categorical target column to numeric using Label Encoding\n",
    "    label_encoder = LabelEncoder()\n",
    "    df[target_column] = label_encoder.fit_transform(df[target_column])\n",
    "    \n",
    "    # Display the mapping of original labels to encoded values\n",
    "    label_mapping = dict(zip(label_encoder.classes_, label_encoder.transform(label_encoder.classes_)))\n",
    "    print(\"Label Encoding Mapping:\")\n",
    "    for original, encoded in label_mapping.items():\n",
    "        print(f\"{original} -> {encoded}\")\n",
    "\n",
    "    # Save the modified dataset\n",
    "    output_file = \"modified_file.csv\"\n",
    "    df.to_csv(output_file, index=False)\n",
    "    \n",
    "    print(f\"\\nFile successfully saved as {output_file}\")\n",
    "else:\n",
    "    print(f\"Column '{target_column}' not found in the dataset. Check your column name.\")\n",
    "\n"
   ]
  }
 ],
 "metadata": {
  "kernelspec": {
   "display_name": "env_jet",
   "language": "python",
   "name": "python3"
  },
  "language_info": {
   "codemirror_mode": {
    "name": "ipython",
    "version": 3
   },
   "file_extension": ".py",
   "mimetype": "text/x-python",
   "name": "python",
   "nbconvert_exporter": "python",
   "pygments_lexer": "ipython3",
   "version": "3.10.12"
  }
 },
 "nbformat": 4,
 "nbformat_minor": 2
}
