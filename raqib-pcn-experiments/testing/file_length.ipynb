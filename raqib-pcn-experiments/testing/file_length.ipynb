{
 "cells": [
  {
   "cell_type": "code",
   "execution_count": 2,
   "metadata": {},
   "outputs": [
    {
     "name": "stderr",
     "output_type": "stream",
     "text": [
      "  0%|          | 0/50 [00:00<?, ?it/s]"
     ]
    },
    {
     "name": "stderr",
     "output_type": "stream",
     "text": [
      "100%|██████████| 50/50 [00:01<00:00, 43.97it/s]\n"
     ]
    },
    {
     "name": "stdout",
     "output_type": "stream",
     "text": [
      "                    file    rows\n",
      "0       HToWW4Q_123.root  100000\n",
      "1         WToQQ_122.root  100000\n",
      "2         WToQQ_123.root  100000\n",
      "3         HToCC_122.root  100000\n",
      "4         WToQQ_120.root  100000\n",
      "5         ZToQQ_121.root  100000\n",
      "6         HToBB_120.root  100000\n",
      "7     HToWW2Q1L_123.root  100000\n",
      "8         HToCC_123.root  100000\n",
      "9     HToWW2Q1L_120.root  100000\n",
      "10        HToBB_124.root  100000\n",
      "11     TTBarLep_123.root  100000\n",
      "12        TTBar_120.root  100000\n",
      "13        HToBB_122.root  100000\n",
      "14        HToGG_122.root  100000\n",
      "15     TTBarLep_124.root  100000\n",
      "16        TTBar_121.root  100000\n",
      "17    HToWW2Q1L_121.root  100000\n",
      "18    HToWW2Q1L_122.root  100000\n",
      "19  ZJetsToNuNu_123.root  100000\n",
      "20        TTBar_123.root  100000\n",
      "21        ZToQQ_124.root  100000\n",
      "22    HToWW2Q1L_124.root  100000\n",
      "23        HToCC_124.root  100000\n",
      "24  ZJetsToNuNu_120.root  100000\n",
      "25  ZJetsToNuNu_122.root  100000\n",
      "26  ZJetsToNuNu_121.root  100000\n",
      "27        HToBB_123.root  100000\n",
      "28      HToWW4Q_122.root  100000\n",
      "29      HToWW4Q_120.root  100000\n",
      "30        ZToQQ_123.root  100000\n",
      "31        HToGG_124.root  100000\n",
      "32     TTBarLep_120.root  100000\n",
      "33        TTBar_122.root  100000\n",
      "34        ZToQQ_122.root  100000\n",
      "35     TTBarLep_121.root  100000\n",
      "36        HToGG_120.root  100000\n",
      "37        ZToQQ_120.root  100000\n",
      "38        WToQQ_124.root  100000\n",
      "39        HToCC_120.root  100000\n",
      "40        TTBar_124.root  100000\n",
      "41        HToGG_123.root  100000\n",
      "42      HToWW4Q_124.root  100000\n",
      "43        HToGG_121.root  100000\n",
      "44        HToBB_121.root  100000\n",
      "45        HToCC_121.root  100000\n",
      "46      HToWW4Q_121.root  100000\n",
      "47  ZJetsToNuNu_124.root  100000\n",
      "48     TTBarLep_122.root  100000\n",
      "49        WToQQ_121.root  100000\n",
      "File lengths saved to: root_file_lengths.csv\n"
     ]
    }
   ],
   "source": [
    "import uproot\n",
    "import os\n",
    "from tqdm import tqdm\n",
    "import pandas as pd\n",
    "\n",
    "# Directory containing the ROOT files\n",
    "root_dir = \"../data/val_dataset/val_5M/\"  \n",
    "\n",
    "# List to store file names and row counts\n",
    "file_info = []\n",
    "\n",
    "# Iterate through each file in the directory\n",
    "for root_file in tqdm(os.listdir(root_dir)):\n",
    "    if root_file.endswith(\".root\"):\n",
    "        file_path = os.path.join(root_dir, root_file)\n",
    "        try:\n",
    "            # Open the ROOT file and get the first tree\n",
    "            with uproot.open(file_path) as f:\n",
    "                # List available keys to find the tree\n",
    "                tree_name = [key for key in f.keys() if \"tree\" in key.lower() or \"events\" in key.lower()]\n",
    "                if tree_name:\n",
    "                    tree = f[tree_name[0]]\n",
    "                    num_entries = tree.num_entries\n",
    "                    file_info.append({\"file\": root_file, \"rows\": num_entries})\n",
    "                else:\n",
    "                    file_info.append({\"file\": root_file, \"rows\": \"No tree found\"})\n",
    "        except Exception as e:\n",
    "            file_info.append({\"file\": root_file, \"rows\": f\"Error: {e}\"})\n",
    "\n",
    "# Convert the results to a DataFrame\n",
    "df = pd.DataFrame(file_info)\n",
    "\n",
    "# Display the DataFrame\n",
    "print(df)\n",
    "\n",
    "# Save the DataFrame to a CSV file\n",
    "csv_path = \"root_file_lengths.csv\"\n",
    "df.to_csv(csv_path, index=False)\n",
    "print(f\"File lengths saved to: {csv_path}\")\n"
   ]
  },
  {
   "cell_type": "code",
   "execution_count": 3,
   "metadata": {},
   "outputs": [
    {
     "name": "stdout",
     "output_type": "stream",
     "text": [
      "Available Trees: ['tree;1']\n",
      "Available Branches (Columns): ['part_px', 'part_py', 'part_pz', 'part_energy', 'part_deta', 'part_dphi', 'part_d0val', 'part_d0err', 'part_dzval', 'part_dzerr', 'part_charge', 'part_isChargedHadron', 'part_isNeutralHadron', 'part_isPhoton', 'part_isElectron', 'part_isMuon', 'label_QCD', 'label_Hbb', 'label_Hcc', 'label_Hgg', 'label_H4q', 'label_Hqql', 'label_Zqq', 'label_Wqq', 'label_Tbqq', 'label_Tbl', 'jet_pt', 'jet_eta', 'jet_phi', 'jet_energy', 'jet_nparticles', 'jet_sdmass', 'jet_tau1', 'jet_tau2', 'jet_tau3', 'jet_tau4', 'aux_genpart_eta', 'aux_genpart_phi', 'aux_genpart_pid', 'aux_genpart_pt', 'aux_truth_match']\n"
     ]
    }
   ],
   "source": [
    "import uproot\n",
    "\n",
    "filepath = \"../data/val_dataset/val_5M/HToBB_120.root\"  # Path to ROOT file\n",
    "\n",
    "# Open ROOT file\n",
    "file = uproot.open(filepath)\n",
    "\n",
    "# Print all tree names\n",
    "print(\"Available Trees:\", file.keys())\n",
    "\n",
    "# Open the main tree (assuming it's named 'tree')\n",
    "tree = file[\"tree\"]\n",
    "\n",
    "# Print all branches (columns) available in the ROOT file\n",
    "print(\"Available Branches (Columns):\", tree.keys())\n"
   ]
  },
  {
   "cell_type": "code",
   "execution_count": 7,
   "metadata": {},
   "outputs": [
    {
     "name": "stdout",
     "output_type": "stream",
     "text": [
      "Total Entries: 100000\n",
      "Entries with label_Hbb = 0/False: 0\n",
      "Entries with label_Hbb = 1/True: 100000\n",
      "All entries have label_Hbb = 1/True.\n"
     ]
    }
   ],
   "source": [
    "import uproot\n",
    "import numpy as np\n",
    "\n",
    "# Path to the specific ROOT file\n",
    "file_path = \"../data/val_dataset/val_5M/HToBB_120.root\"\n",
    "\n",
    "# Open the ROOT file\n",
    "with uproot.open(file_path) as f:\n",
    "    # Identify the tree (assuming there's only one tree or named accordingly)\n",
    "    tree_name = [key for key in f.keys() if \"tree\" in key.lower() or \"events\" in key.lower()]\n",
    "    \n",
    "    if not tree_name:\n",
    "        print(\"No tree found in the file.\")\n",
    "    else:\n",
    "        tree = f[tree_name[0]]\n",
    "        \n",
    "        # Load the 'label_Hbb' branch\n",
    "        label_hbb = tree[\"label_Hbb\"].array(library=\"np\")\n",
    "\n",
    "        # Check for zeros or False values\n",
    "        zero_count = np.sum(label_hbb == 0)\n",
    "        true_count = np.sum(label_hbb == 1)\n",
    "        \n",
    "        # Print the result\n",
    "        print(f\"Total Entries: {len(label_hbb)}\")\n",
    "        print(f\"Entries with label_Hbb = 0/False: {zero_count}\")\n",
    "        print(f\"Entries with label_Hbb = 1/True: {true_count}\")\n",
    "        \n",
    "        # Check if any 0/False values exist\n",
    "        if zero_count > 0:\n",
    "            print(\"There are entries with label_Hbb = 0/False.\")\n",
    "        else:\n",
    "            print(\"All entries have label_Hbb = 1/True.\")\n"
   ]
  }
 ],
 "metadata": {
  "kernelspec": {
   "display_name": "env_jet",
   "language": "python",
   "name": "python3"
  },
  "language_info": {
   "codemirror_mode": {
    "name": "ipython",
    "version": 3
   },
   "file_extension": ".py",
   "mimetype": "text/x-python",
   "name": "python",
   "nbconvert_exporter": "python",
   "pygments_lexer": "ipython3",
   "version": "3.10.12"
  }
 },
 "nbformat": 4,
 "nbformat_minor": 2
}
